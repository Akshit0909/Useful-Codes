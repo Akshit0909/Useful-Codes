{
 "cells": [
  {
   "cell_type": "code",
   "execution_count": 1,
   "metadata": {},
   "outputs": [],
   "source": [
    "import pandas as pd"
   ]
  },
  {
   "cell_type": "code",
   "execution_count": 5,
   "metadata": {},
   "outputs": [],
   "source": [
    "from geopy.geocoders import Nominatim"
   ]
  },
  {
   "cell_type": "code",
   "execution_count": 6,
   "metadata": {},
   "outputs": [],
   "source": [
    "geolocator = Nominatim(user_agent=\"geoapiExercises\")"
   ]
  },
  {
   "cell_type": "code",
   "execution_count": 3,
   "metadata": {},
   "outputs": [],
   "source": [
    "w8_df=pd.read_excel(r\"protests map.xlsx\")"
   ]
  },
  {
   "cell_type": "code",
   "execution_count": 4,
   "metadata": {
    "collapsed": true
   },
   "outputs": [
    {
     "data": {
      "text/html": [
       "<div>\n",
       "<style scoped>\n",
       "    .dataframe tbody tr th:only-of-type {\n",
       "        vertical-align: middle;\n",
       "    }\n",
       "\n",
       "    .dataframe tbody tr th {\n",
       "        vertical-align: top;\n",
       "    }\n",
       "\n",
       "    .dataframe thead th {\n",
       "        text-align: right;\n",
       "    }\n",
       "</style>\n",
       "<table border=\"1\" class=\"dataframe\">\n",
       "  <thead>\n",
       "    <tr style=\"text-align: right;\">\n",
       "      <th></th>\n",
       "      <th>RecordID</th>\n",
       "      <th>Longitude</th>\n",
       "      <th>Latitude</th>\n",
       "      <th>DateTime</th>\n",
       "      <th>Event Link</th>\n",
       "    </tr>\n",
       "  </thead>\n",
       "  <tbody>\n",
       "    <tr>\n",
       "      <th>0</th>\n",
       "      <td>1</td>\n",
       "      <td>21.021260</td>\n",
       "      <td>52.213450</td>\n",
       "      <td>2021-02-12 18:00:00.000</td>\n",
       "      <td>https://www.facebook.com/events/226495892402184</td>\n",
       "    </tr>\n",
       "    <tr>\n",
       "      <th>1</th>\n",
       "      <td>2</td>\n",
       "      <td>17.967134</td>\n",
       "      <td>50.474524</td>\n",
       "      <td>2021-02-03 16:59:59.971</td>\n",
       "      <td>https://www.facebook.com/events/604855707006993</td>\n",
       "    </tr>\n",
       "    <tr>\n",
       "      <th>2</th>\n",
       "      <td>3</td>\n",
       "      <td>19.963477</td>\n",
       "      <td>53.697546</td>\n",
       "      <td>2021-02-01 18:29:59.971</td>\n",
       "      <td>NaN</td>\n",
       "    </tr>\n",
       "    <tr>\n",
       "      <th>3</th>\n",
       "      <td>4</td>\n",
       "      <td>21.392015</td>\n",
       "      <td>50.948696</td>\n",
       "      <td>2021-01-31 15:29:59.971</td>\n",
       "      <td>https://fb.me/e/VdR0ifWI</td>\n",
       "    </tr>\n",
       "    <tr>\n",
       "      <th>4</th>\n",
       "      <td>5</td>\n",
       "      <td>15.339680</td>\n",
       "      <td>50.912950</td>\n",
       "      <td>2021-01-30 16:00:00.029</td>\n",
       "      <td>https://fb.me/e/1Qfbo0xA8</td>\n",
       "    </tr>\n",
       "    <tr>\n",
       "      <th>...</th>\n",
       "      <td>...</td>\n",
       "      <td>...</td>\n",
       "      <td>...</td>\n",
       "      <td>...</td>\n",
       "      <td>...</td>\n",
       "    </tr>\n",
       "    <tr>\n",
       "      <th>1353</th>\n",
       "      <td>1354</td>\n",
       "      <td>17.933780</td>\n",
       "      <td>51.425820</td>\n",
       "      <td>2020-10-23 00:00:00.000</td>\n",
       "      <td>NaN</td>\n",
       "    </tr>\n",
       "    <tr>\n",
       "      <th>1354</th>\n",
       "      <td>1355</td>\n",
       "      <td>15.590514</td>\n",
       "      <td>51.109579</td>\n",
       "      <td>2020-10-23 00:00:00.000</td>\n",
       "      <td>https://www.facebook.com/watch/live/?v=7962819...</td>\n",
       "    </tr>\n",
       "    <tr>\n",
       "      <th>1355</th>\n",
       "      <td>1356</td>\n",
       "      <td>18.936793</td>\n",
       "      <td>50.900917</td>\n",
       "      <td>2020-10-23 00:00:00.000</td>\n",
       "      <td>https://www.facebook.com/Oczyma-Mieszka%C5%84c...</td>\n",
       "    </tr>\n",
       "    <tr>\n",
       "      <th>1356</th>\n",
       "      <td>1357</td>\n",
       "      <td>21.165931</td>\n",
       "      <td>50.562997</td>\n",
       "      <td>2020-10-23 00:00:00.000</td>\n",
       "      <td>https://www.facebook.com/events/397548197942957/</td>\n",
       "    </tr>\n",
       "    <tr>\n",
       "      <th>1357</th>\n",
       "      <td>1358</td>\n",
       "      <td>21.732540</td>\n",
       "      <td>54.215901</td>\n",
       "      <td>2020-10-19 13:59:59.971</td>\n",
       "      <td>https://www.facebook.com/DziewuchyWegorzewo/</td>\n",
       "    </tr>\n",
       "  </tbody>\n",
       "</table>\n",
       "<p>1358 rows × 5 columns</p>\n",
       "</div>"
      ],
      "text/plain": [
       "      RecordID  Longitude   Latitude                DateTime  \\\n",
       "0            1  21.021260  52.213450 2021-02-12 18:00:00.000   \n",
       "1            2  17.967134  50.474524 2021-02-03 16:59:59.971   \n",
       "2            3  19.963477  53.697546 2021-02-01 18:29:59.971   \n",
       "3            4  21.392015  50.948696 2021-01-31 15:29:59.971   \n",
       "4            5  15.339680  50.912950 2021-01-30 16:00:00.029   \n",
       "...        ...        ...        ...                     ...   \n",
       "1353      1354  17.933780  51.425820 2020-10-23 00:00:00.000   \n",
       "1354      1355  15.590514  51.109579 2020-10-23 00:00:00.000   \n",
       "1355      1356  18.936793  50.900917 2020-10-23 00:00:00.000   \n",
       "1356      1357  21.165931  50.562997 2020-10-23 00:00:00.000   \n",
       "1357      1358  21.732540  54.215901 2020-10-19 13:59:59.971   \n",
       "\n",
       "                                             Event Link  \n",
       "0       https://www.facebook.com/events/226495892402184  \n",
       "1       https://www.facebook.com/events/604855707006993  \n",
       "2                                                   NaN  \n",
       "3                              https://fb.me/e/VdR0ifWI  \n",
       "4                             https://fb.me/e/1Qfbo0xA8  \n",
       "...                                                 ...  \n",
       "1353                                                NaN  \n",
       "1354  https://www.facebook.com/watch/live/?v=7962819...  \n",
       "1355  https://www.facebook.com/Oczyma-Mieszka%C5%84c...  \n",
       "1356   https://www.facebook.com/events/397548197942957/  \n",
       "1357       https://www.facebook.com/DziewuchyWegorzewo/  \n",
       "\n",
       "[1358 rows x 5 columns]"
      ]
     },
     "execution_count": 4,
     "metadata": {},
     "output_type": "execute_result"
    }
   ],
   "source": [
    "w8_df"
   ]
  },
  {
   "cell_type": "code",
   "execution_count": 7,
   "metadata": {},
   "outputs": [
    {
     "data": {
      "text/plain": [
       "Index(['RecordID', 'Longitude', 'Latitude', 'DateTime', 'Event Link'], dtype='object')"
      ]
     },
     "execution_count": 7,
     "metadata": {},
     "output_type": "execute_result"
    }
   ],
   "source": [
    "w8_df.columns"
   ]
  },
  {
   "cell_type": "code",
   "execution_count": 10,
   "metadata": {},
   "outputs": [],
   "source": [
    "def generate_info(df):\n",
    "    return geolocator.reverse(str(df['Latitude'])+\",\"+str(df['Longitude']))"
   ]
  },
  {
   "cell_type": "code",
   "execution_count": 11,
   "metadata": {},
   "outputs": [],
   "source": [
    "w8_df['location'] = w8_df.apply(generate_info,axis=1)"
   ]
  },
  {
   "cell_type": "code",
   "execution_count": 17,
   "metadata": {},
   "outputs": [],
   "source": [
    "w8_df['address']=w8_df['location'].apply(lambda x:x.raw['address'])"
   ]
  },
  {
   "cell_type": "code",
   "execution_count": null,
   "metadata": {},
   "outputs": [],
   "source": [
    "def parse_info(df):\n",
    "    for key,value in df['address']:\n",
    "        df[key]=value"
   ]
  },
  {
   "cell_type": "code",
   "execution_count": 42,
   "metadata": {},
   "outputs": [],
   "source": [
    "column_list=list(w8_df['address'][0].keys())"
   ]
  },
  {
   "cell_type": "code",
   "execution_count": 43,
   "metadata": {},
   "outputs": [
    {
     "data": {
      "text/plain": [
       "['house_number',\n",
       " 'road',\n",
       " 'quarter',\n",
       " 'suburb',\n",
       " 'city_district',\n",
       " 'city',\n",
       " 'state',\n",
       " 'postcode',\n",
       " 'country',\n",
       " 'country_code']"
      ]
     },
     "execution_count": 43,
     "metadata": {},
     "output_type": "execute_result"
    }
   ],
   "source": [
    "column_list"
   ]
  },
  {
   "cell_type": "code",
   "execution_count": 44,
   "metadata": {},
   "outputs": [],
   "source": [
    "for i in column_list:\n",
    "    w8_df[i]=w8_df['address'].apply(lambda x:x.get(i, ''))"
   ]
  },
  {
   "cell_type": "code",
   "execution_count": 46,
   "metadata": {
    "collapsed": true
   },
   "outputs": [
    {
     "data": {
      "text/html": [
       "<div>\n",
       "<style scoped>\n",
       "    .dataframe tbody tr th:only-of-type {\n",
       "        vertical-align: middle;\n",
       "    }\n",
       "\n",
       "    .dataframe tbody tr th {\n",
       "        vertical-align: top;\n",
       "    }\n",
       "\n",
       "    .dataframe thead th {\n",
       "        text-align: right;\n",
       "    }\n",
       "</style>\n",
       "<table border=\"1\" class=\"dataframe\">\n",
       "  <thead>\n",
       "    <tr style=\"text-align: right;\">\n",
       "      <th></th>\n",
       "      <th>RecordID</th>\n",
       "      <th>Longitude</th>\n",
       "      <th>Latitude</th>\n",
       "      <th>DateTime</th>\n",
       "      <th>Event Link</th>\n",
       "      <th>location</th>\n",
       "      <th>address</th>\n",
       "      <th>house_number</th>\n",
       "      <th>road</th>\n",
       "      <th>quarter</th>\n",
       "      <th>suburb</th>\n",
       "      <th>city_district</th>\n",
       "      <th>city</th>\n",
       "      <th>state</th>\n",
       "      <th>postcode</th>\n",
       "      <th>country</th>\n",
       "      <th>country_code</th>\n",
       "    </tr>\n",
       "  </thead>\n",
       "  <tbody>\n",
       "    <tr>\n",
       "      <th>0</th>\n",
       "      <td>1</td>\n",
       "      <td>21.021260</td>\n",
       "      <td>52.213450</td>\n",
       "      <td>2021-02-12 18:00:00.000</td>\n",
       "      <td>https://www.facebook.com/events/226495892402184</td>\n",
       "      <td>(2, Tadeusza Boya-Żeleńskiego, Śródmieście Poł...</td>\n",
       "      <td>{'house_number': '2', 'road': 'Tadeusza Boya-Ż...</td>\n",
       "      <td>2</td>\n",
       "      <td>Tadeusza Boya-Żeleńskiego</td>\n",
       "      <td>Śródmieście Południowe</td>\n",
       "      <td>Śródmieście</td>\n",
       "      <td>Warszawa</td>\n",
       "      <td>Warszawa</td>\n",
       "      <td>województwo mazowieckie</td>\n",
       "      <td>00-621</td>\n",
       "      <td>Polska</td>\n",
       "      <td>pl</td>\n",
       "    </tr>\n",
       "    <tr>\n",
       "      <th>1</th>\n",
       "      <td>2</td>\n",
       "      <td>17.967134</td>\n",
       "      <td>50.474524</td>\n",
       "      <td>2021-02-03 16:59:59.971</td>\n",
       "      <td>https://www.facebook.com/events/604855707006993</td>\n",
       "      <td>(Rynek, Osiedle Powstańców Śląskich, Otmęt, Kr...</td>\n",
       "      <td>{'road': 'Rynek', 'neighbourhood': 'Osiedle Po...</td>\n",
       "      <td></td>\n",
       "      <td>Rynek</td>\n",
       "      <td></td>\n",
       "      <td>Otmęt</td>\n",
       "      <td></td>\n",
       "      <td></td>\n",
       "      <td>województwo opolskie</td>\n",
       "      <td></td>\n",
       "      <td>Polska</td>\n",
       "      <td>pl</td>\n",
       "    </tr>\n",
       "    <tr>\n",
       "      <th>2</th>\n",
       "      <td>3</td>\n",
       "      <td>19.963477</td>\n",
       "      <td>53.697546</td>\n",
       "      <td>2021-02-01 18:29:59.971</td>\n",
       "      <td>NaN</td>\n",
       "      <td>(21, Stefana Czarnieckiego, Centrum, Ostróda, ...</td>\n",
       "      <td>{'house_number': '21', 'road': 'Stefana Czarni...</td>\n",
       "      <td>21</td>\n",
       "      <td>Stefana Czarnieckiego</td>\n",
       "      <td></td>\n",
       "      <td></td>\n",
       "      <td></td>\n",
       "      <td></td>\n",
       "      <td>województwo warmińsko-mazurskie</td>\n",
       "      <td>14-100</td>\n",
       "      <td>Polska</td>\n",
       "      <td>pl</td>\n",
       "    </tr>\n",
       "    <tr>\n",
       "      <th>3</th>\n",
       "      <td>4</td>\n",
       "      <td>21.392015</td>\n",
       "      <td>50.948696</td>\n",
       "      <td>2021-01-31 15:29:59.971</td>\n",
       "      <td>https://fb.me/e/VdR0ifWI</td>\n",
       "      <td>(63d, Aleja Jana Pawła II, Osiedle Pułanki, Os...</td>\n",
       "      <td>{'house_number': '63d', 'road': 'Aleja Jana Pa...</td>\n",
       "      <td>63d</td>\n",
       "      <td>Aleja Jana Pawła II</td>\n",
       "      <td></td>\n",
       "      <td></td>\n",
       "      <td></td>\n",
       "      <td></td>\n",
       "      <td>województwo świętokrzyskie</td>\n",
       "      <td>27-400</td>\n",
       "      <td>Polska</td>\n",
       "      <td>pl</td>\n",
       "    </tr>\n",
       "    <tr>\n",
       "      <th>4</th>\n",
       "      <td>5</td>\n",
       "      <td>15.339680</td>\n",
       "      <td>50.912950</td>\n",
       "      <td>2021-01-30 16:00:00.029</td>\n",
       "      <td>https://fb.me/e/1Qfbo0xA8</td>\n",
       "      <td>(Urząd Miasta i Gminy, 35, 11 Listopada, Podgó...</td>\n",
       "      <td>{'amenity': 'Urząd Miasta i Gminy', 'house_num...</td>\n",
       "      <td>35</td>\n",
       "      <td>11 Listopada</td>\n",
       "      <td></td>\n",
       "      <td></td>\n",
       "      <td></td>\n",
       "      <td></td>\n",
       "      <td>województwo dolnośląskie</td>\n",
       "      <td>59-850</td>\n",
       "      <td>Polska</td>\n",
       "      <td>pl</td>\n",
       "    </tr>\n",
       "  </tbody>\n",
       "</table>\n",
       "</div>"
      ],
      "text/plain": [
       "   RecordID  Longitude   Latitude                DateTime  \\\n",
       "0         1  21.021260  52.213450 2021-02-12 18:00:00.000   \n",
       "1         2  17.967134  50.474524 2021-02-03 16:59:59.971   \n",
       "2         3  19.963477  53.697546 2021-02-01 18:29:59.971   \n",
       "3         4  21.392015  50.948696 2021-01-31 15:29:59.971   \n",
       "4         5  15.339680  50.912950 2021-01-30 16:00:00.029   \n",
       "\n",
       "                                        Event Link  \\\n",
       "0  https://www.facebook.com/events/226495892402184   \n",
       "1  https://www.facebook.com/events/604855707006993   \n",
       "2                                              NaN   \n",
       "3                         https://fb.me/e/VdR0ifWI   \n",
       "4                        https://fb.me/e/1Qfbo0xA8   \n",
       "\n",
       "                                            location  \\\n",
       "0  (2, Tadeusza Boya-Żeleńskiego, Śródmieście Poł...   \n",
       "1  (Rynek, Osiedle Powstańców Śląskich, Otmęt, Kr...   \n",
       "2  (21, Stefana Czarnieckiego, Centrum, Ostróda, ...   \n",
       "3  (63d, Aleja Jana Pawła II, Osiedle Pułanki, Os...   \n",
       "4  (Urząd Miasta i Gminy, 35, 11 Listopada, Podgó...   \n",
       "\n",
       "                                             address house_number  \\\n",
       "0  {'house_number': '2', 'road': 'Tadeusza Boya-Ż...            2   \n",
       "1  {'road': 'Rynek', 'neighbourhood': 'Osiedle Po...                \n",
       "2  {'house_number': '21', 'road': 'Stefana Czarni...           21   \n",
       "3  {'house_number': '63d', 'road': 'Aleja Jana Pa...          63d   \n",
       "4  {'amenity': 'Urząd Miasta i Gminy', 'house_num...           35   \n",
       "\n",
       "                        road                 quarter       suburb  \\\n",
       "0  Tadeusza Boya-Żeleńskiego  Śródmieście Południowe  Śródmieście   \n",
       "1                      Rynek                                Otmęt   \n",
       "2      Stefana Czarnieckiego                                        \n",
       "3        Aleja Jana Pawła II                                        \n",
       "4               11 Listopada                                        \n",
       "\n",
       "  city_district      city                            state postcode country  \\\n",
       "0      Warszawa  Warszawa          województwo mazowieckie   00-621  Polska   \n",
       "1                                     województwo opolskie           Polska   \n",
       "2                          województwo warmińsko-mazurskie   14-100  Polska   \n",
       "3                               województwo świętokrzyskie   27-400  Polska   \n",
       "4                                 województwo dolnośląskie   59-850  Polska   \n",
       "\n",
       "  country_code  \n",
       "0           pl  \n",
       "1           pl  \n",
       "2           pl  \n",
       "3           pl  \n",
       "4           pl  "
      ]
     },
     "execution_count": 46,
     "metadata": {},
     "output_type": "execute_result"
    }
   ],
   "source": [
    "w8_df.head()"
   ]
  },
  {
   "cell_type": "code",
   "execution_count": 47,
   "metadata": {},
   "outputs": [],
   "source": [
    "w8_df.to_excel('python_parsed_data.xlsx')"
   ]
  }
 ],
 "metadata": {
  "kernelspec": {
   "display_name": "Python 3",
   "language": "python",
   "name": "python3"
  },
  "language_info": {
   "codemirror_mode": {
    "name": "ipython",
    "version": 3
   },
   "file_extension": ".py",
   "mimetype": "text/x-python",
   "name": "python",
   "nbconvert_exporter": "python",
   "pygments_lexer": "ipython3",
   "version": "3.8.5"
  }
 },
 "nbformat": 4,
 "nbformat_minor": 4
}
