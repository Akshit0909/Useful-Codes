{
 "cells": [
  {
   "cell_type": "markdown",
   "metadata": {},
   "source": [
    "# Check asset classification categorization"
   ]
  },
  {
   "cell_type": "markdown",
   "metadata": {},
   "source": [
    "---"
   ]
  },
  {
   "cell_type": "markdown",
   "metadata": {},
   "source": [
    "# NLP STOP WORDS "
   ]
  },
  {
   "cell_type": "code",
   "execution_count": 1,
   "metadata": {},
   "outputs": [
    {
     "name": "stderr",
     "output_type": "stream",
     "text": [
      "[nltk_data] Downloading package stopwords to\n",
      "[nltk_data]     C:\\Users\\Akshit.Miglani\\AppData\\Roaming\\nltk_data...\n",
      "[nltk_data]   Package stopwords is already up-to-date!\n"
     ]
    },
    {
     "data": {
      "text/plain": [
       "True"
      ]
     },
     "execution_count": 1,
     "metadata": {},
     "output_type": "execute_result"
    }
   ],
   "source": [
    "import nltk\n",
    "nltk.download(\"stopwords\")"
   ]
  },
  {
   "cell_type": "code",
   "execution_count": 2,
   "metadata": {},
   "outputs": [],
   "source": [
    "from nltk.corpus import stopwords"
   ]
  },
  {
   "cell_type": "code",
   "execution_count": 8,
   "metadata": {},
   "outputs": [],
   "source": [
    "stop_words = list(set(stopwords.words(\"English\")))"
   ]
  },
  {
   "cell_type": "code",
   "execution_count": 9,
   "metadata": {},
   "outputs": [
    {
     "name": "stdout",
     "output_type": "stream",
     "text": [
      "[\"aren't\", 'those', 'needn', 'out', \"shouldn't\", 'about', 'who', 'been', 'couldn', \"mustn't\", \"it's\", 'being', 'does', 'ourselves', 'before', 'in', 'that', 'because', 'for', 'mightn', 'other', \"couldn't\", 'by', 'where', 'most', 've', 'not', 'it', 'had', 'own', 'themselves', 'nor', 'weren', 'each', 'and', 'isn', 'itself', 'yourselves', 'he', 'than', 'up', 'your', \"mightn't\", 'any', 'doesn', 'below', \"hadn't\", 'all', 'll', 'haven', 'further', 'hadn', 'off', 'against', 'ain', 'his', 'while', 'wouldn', 'how', 'both', \"should've\", 'until', 'myself', 'too', 'whom', 'with', 'will', \"you'd\", 'when', 'down', \"don't\", 'she', 'have', 'but', 'to', 't', 'if', 'our', \"you're\", \"you'll\", 'so', \"didn't\", 'a', 'did', 'or', 'theirs', \"you've\", 'has', 'there', 'herself', 'am', 'on', \"weren't\", 'didn', 'doing', 'same', 'their', 'more', 'yourself', 'again', 'few', 'between', \"doesn't\", 'hasn', 'd', \"wasn't\", 'ours', 'can', 'i', 'was', 'they', 'of', 'the', 'them', 'such', 'only', 'should', 'shouldn', 'do', 'just', 'mustn', 'these', 'me', 'during', 'wasn', 'yours', 'from', 'is', 'above', 'as', 's', \"won't\", 'its', 're', \"haven't\", 'at', 'shan', 'don', 'y', 'then', \"that'll\", 'having', 'we', 'very', 'some', 'my', 'over', 'which', \"wouldn't\", 'be', 'now', 'this', 'here', \"isn't\", 'won', 'what', 'aren', 'why', 'are', \"shan't\", 'after', 'o', \"hasn't\", \"needn't\", 'him', 'through', \"she's\", 'no', 'were', 'an', 'himself', 'into', 'ma', 'm', 'hers', 'under', 'her', 'you', 'once'] "
     ]
    }
   ],
   "source": [
    "print(stop_words, end = \" \")"
   ]
  },
  {
   "cell_type": "code",
   "execution_count": 7,
   "metadata": {},
   "outputs": [],
   "source": [
    "str_1 = \"Taxation in the United States\""
   ]
  },
  {
   "cell_type": "code",
   "execution_count": 12,
   "metadata": {},
   "outputs": [
    {
     "data": {
      "text/plain": [
       "<re.Match object; span=(1, 2), match='a'>"
      ]
     },
     "execution_count": 12,
     "metadata": {},
     "output_type": "execute_result"
    }
   ],
   "source": [
    "import re\n",
    "position = re.search(\"|\".join(stop_words), str_1)\n",
    "position"
   ]
  },
  {
   "cell_type": "code",
   "execution_count": 13,
   "metadata": {},
   "outputs": [
    {
     "data": {
      "text/plain": [
       "'a'"
      ]
     },
     "execution_count": 13,
     "metadata": {},
     "output_type": "execute_result"
    }
   ],
   "source": [
    "str_1[position.start():position.end()]"
   ]
  },
  {
   "cell_type": "markdown",
   "metadata": {},
   "source": [
    "---"
   ]
  },
  {
   "cell_type": "markdown",
   "metadata": {},
   "source": [
    "# REMOVING ALL STOP WORDS FROM STRINGS"
   ]
  },
  {
   "cell_type": "code",
   "execution_count": 280,
   "metadata": {},
   "outputs": [],
   "source": [
    "import pandas as pd"
   ]
  },
  {
   "cell_type": "code",
   "execution_count": 282,
   "metadata": {},
   "outputs": [],
   "source": [
    "df = pd.read_csv(r\"C:\\Users\\Akshit.Miglani\\OneDrive - EY\\Desktop\\Project\\US TMT Risk Scanner NLP\\Python\\Output 10K\\wnx_concepts.csv\")"
   ]
  },
  {
   "cell_type": "code",
   "execution_count": 283,
   "metadata": {},
   "outputs": [
    {
     "data": {
      "text/html": [
       "<div>\n",
       "<style scoped>\n",
       "    .dataframe tbody tr th:only-of-type {\n",
       "        vertical-align: middle;\n",
       "    }\n",
       "\n",
       "    .dataframe tbody tr th {\n",
       "        vertical-align: top;\n",
       "    }\n",
       "\n",
       "    .dataframe thead th {\n",
       "        text-align: right;\n",
       "    }\n",
       "</style>\n",
       "<table border=\"1\" class=\"dataframe\">\n",
       "  <thead>\n",
       "    <tr style=\"text-align: right;\">\n",
       "      <th></th>\n",
       "      <th>ID</th>\n",
       "      <th>RISKID</th>\n",
       "      <th>CONCEPT</th>\n",
       "      <th>RELEVANCE</th>\n",
       "      <th>DBPEDIA_RESOURCE</th>\n",
       "    </tr>\n",
       "  </thead>\n",
       "  <tbody>\n",
       "    <tr>\n",
       "      <th>0</th>\n",
       "      <td>e54e71633d27bd2a734aea40cdf726a2</td>\n",
       "      <td>Volatile</td>\n",
       "      <td>Stock</td>\n",
       "      <td>0.975738</td>\n",
       "      <td>http://dbpedia.org/resource/Stock</td>\n",
       "    </tr>\n",
       "    <tr>\n",
       "      <th>1</th>\n",
       "      <td>e54e71633d27bd2a734aea40cdf726a2</td>\n",
       "      <td>Volatile</td>\n",
       "      <td>Stock market</td>\n",
       "      <td>0.767466</td>\n",
       "      <td>http://dbpedia.org/resource/Stock_market</td>\n",
       "    </tr>\n",
       "    <tr>\n",
       "      <th>2</th>\n",
       "      <td>e54e71633d27bd2a734aea40cdf726a2</td>\n",
       "      <td>Volatile</td>\n",
       "      <td>Debt</td>\n",
       "      <td>0.745304</td>\n",
       "      <td>http://dbpedia.org/resource/Debt</td>\n",
       "    </tr>\n",
       "    <tr>\n",
       "      <th>3</th>\n",
       "      <td>e54e71633d27bd2a734aea40cdf726a2</td>\n",
       "      <td>Volatile</td>\n",
       "      <td>Security</td>\n",
       "      <td>0.648006</td>\n",
       "      <td>http://dbpedia.org/resource/Security_(finance)</td>\n",
       "    </tr>\n",
       "    <tr>\n",
       "      <th>4</th>\n",
       "      <td>e54e71633d27bd2a734aea40cdf726a2</td>\n",
       "      <td>Volatile</td>\n",
       "      <td>Corporate finance</td>\n",
       "      <td>0.598291</td>\n",
       "      <td>http://dbpedia.org/resource/Corporate_finance</td>\n",
       "    </tr>\n",
       "  </tbody>\n",
       "</table>\n",
       "</div>"
      ],
      "text/plain": [
       "                                 ID    RISKID            CONCEPT  RELEVANCE  \\\n",
       "0  e54e71633d27bd2a734aea40cdf726a2  Volatile              Stock   0.975738   \n",
       "1  e54e71633d27bd2a734aea40cdf726a2  Volatile       Stock market   0.767466   \n",
       "2  e54e71633d27bd2a734aea40cdf726a2  Volatile               Debt   0.745304   \n",
       "3  e54e71633d27bd2a734aea40cdf726a2  Volatile           Security   0.648006   \n",
       "4  e54e71633d27bd2a734aea40cdf726a2  Volatile  Corporate finance   0.598291   \n",
       "\n",
       "                                 DBPEDIA_RESOURCE  \n",
       "0               http://dbpedia.org/resource/Stock  \n",
       "1        http://dbpedia.org/resource/Stock_market  \n",
       "2                http://dbpedia.org/resource/Debt  \n",
       "3  http://dbpedia.org/resource/Security_(finance)  \n",
       "4   http://dbpedia.org/resource/Corporate_finance  "
      ]
     },
     "execution_count": 283,
     "metadata": {},
     "output_type": "execute_result"
    }
   ],
   "source": [
    "df.head()"
   ]
  },
  {
   "cell_type": "markdown",
   "metadata": {},
   "source": [
    "\"s\" and \"haven\" were causing problems as there were words such as \"tax haven\" and \"U.S which we don't remove to make changes to\n",
    "\n",
    "We removed this from stop words and also added **2010s**"
   ]
  },
  {
   "cell_type": "code",
   "execution_count": 430,
   "metadata": {},
   "outputs": [
    {
     "name": "stdout",
     "output_type": "stream",
     "text": [
      "[\"aren't\", 'those', 'needn', 'out', \"shouldn't\", 'about', 'who', 'been', 'couldn', \"mustn't\", \"it's\", 'being', 'does', 'ourselves', 'before', 'in', 'that', 'because', 'for', 'mightn', 'other', \"couldn't\", 'by', 'where', 'most', 've', 'not', 'it', 'had', 'own', 'themselves', 'nor', 'weren', 'each', 'and', 'isn', 'itself', 'yourselves', 'he', 'than', 'up', 'your', \"mightn't\", 'any', 'doesn', 'below', \"hadn't\", 'all', 'll', 'further', 'hadn', 'off', 'against', 'ain', 'his', 'while', 'wouldn', 'how', 'both', \"should've\", 'until', 'myself', 'too', 'whom', 'with', 'will', \"you'd\", 'when', 'down', \"don't\", 'she', 'have', 'but', 'to', 't', 'if', 'our', \"you're\", \"you'll\", 'so', \"didn't\", 'a', 'did', 'or', 'theirs', \"you've\", 'has', 'there', 'herself', 'am', 'on', \"weren't\", 'didn', 'doing', 'same', 'their', 'more', 'yourself', 'again', 'few', 'between', \"doesn't\", 'hasn', 'd', \"wasn't\", 'ours', 'can', 'i', 'was', 'they', 'of', 'the', 'them', 'such', 'only', 'should', 'shouldn', 'do', 'just', 'mustn', 'these', 'me', 'during', 'wasn', 'yours', 'from', 'is', 'above', 'as', \"won't\", 'its', 're', \"haven't\", 'at', 'shan', 'don', 'y', 'then', \"that'll\", 'having', 'we', 'very', 'some', 'my', 'over', 'which', \"wouldn't\", 'be', 'now', 'this', 'here', \"isn't\", 'won', 'what', 'aren', 'why', 'are', \"shan't\", 'after', 'o', \"hasn't\", \"needn't\", 'him', 'through', \"she's\", 'no', 'were', 'an', 'himself', 'into', 'ma', 'm', 'hers', 'under', 'her', 'you', 'once', '2010s'] "
     ]
    }
   ],
   "source": [
    "from nltk.corpus import stopwords\n",
    "stop_words = list(set(stopwords.words(\"English\")) - set([\"s\", \"haven\"]))\n",
    "additional_elements = [\"2010s\"]\n",
    "stop_words.extend(additional_elements)\n",
    "print(stop_words, end = \" \")"
   ]
  },
  {
   "cell_type": "markdown",
   "metadata": {},
   "source": [
    "## Attempt 1: Converting string to list -- Not Used"
   ]
  },
  {
   "cell_type": "code",
   "execution_count": null,
   "metadata": {},
   "outputs": [],
   "source": [
    "def remove_stop_words(row):\n",
    "    row_split = row.split(\" \")\n",
    "    row_split = [word.strip().lower() for word in row_split]\n",
    "    row_split = [word for word in row_split if word!= \"the\"]\n",
    "    return ' '.join(row_split)"
   ]
  },
  {
   "cell_type": "markdown",
   "metadata": {},
   "source": [
    "## Attempt 2: Using Regex and Walls -- In Use\n",
    "\n",
    "1. Create walls around each stop words such as **\\bthe\\b \\bshould\\b...**\n",
    "2. Join each words using pipe\n",
    "3. Use re.sub to replace this pattern by space\n",
    "4. Remove any kind of digit from the string using re.sub\n",
    "5. Replace multiple spaces with a single space within the string using re.sub\n",
    "6. There will be some trailing spaces left, just use strip to remove them"
   ]
  },
  {
   "cell_type": "code",
   "execution_count": 431,
   "metadata": {},
   "outputs": [],
   "source": [
    "def remove_stop_words(row):\n",
    "    stop_words_wall = [r\"\\b\" + word + r\"\\b\" for word in stop_words]\n",
    "    stop_words_pattern = \"|\".join(stop_words_wall)\n",
    "    row = re.sub(stop_words_pattern, '', row, flags=re.IGNORECASE)\n",
    "    row = re.sub(\"\\d{1,}\",\"\", row)\n",
    "    row = re.sub('\\s{2,}', ' ', row)\n",
    "    return row.strip()"
   ]
  },
  {
   "cell_type": "code",
   "execution_count": 417,
   "metadata": {},
   "outputs": [
    {
     "data": {
      "text/plain": [
       "'Taxation arent United States'"
      ]
     },
     "execution_count": 417,
     "metadata": {},
     "output_type": "execute_result"
    }
   ],
   "source": [
    "remove_stop_words(\"Taxation in the arent United States shouldn't\")"
   ]
  },
  {
   "cell_type": "code",
   "execution_count": 434,
   "metadata": {},
   "outputs": [],
   "source": [
    "df['CONCEPT'] = df['CONCEPT'].apply(remove_stop_words)"
   ]
  },
  {
   "cell_type": "code",
   "execution_count": null,
   "metadata": {},
   "outputs": [],
   "source": []
  },
  {
   "cell_type": "markdown",
   "metadata": {},
   "source": [
    "Some concepts such as **2010s** will become complete blanks. Simply remove those rows"
   ]
  },
  {
   "cell_type": "code",
   "execution_count": 441,
   "metadata": {
    "collapsed": true
   },
   "outputs": [
    {
     "data": {
      "text/html": [
       "<div>\n",
       "<style scoped>\n",
       "    .dataframe tbody tr th:only-of-type {\n",
       "        vertical-align: middle;\n",
       "    }\n",
       "\n",
       "    .dataframe tbody tr th {\n",
       "        vertical-align: top;\n",
       "    }\n",
       "\n",
       "    .dataframe thead th {\n",
       "        text-align: right;\n",
       "    }\n",
       "</style>\n",
       "<table border=\"1\" class=\"dataframe\">\n",
       "  <thead>\n",
       "    <tr style=\"text-align: right;\">\n",
       "      <th></th>\n",
       "      <th>ID</th>\n",
       "      <th>RISKID</th>\n",
       "      <th>CONCEPT</th>\n",
       "      <th>RELEVANCE</th>\n",
       "      <th>DBPEDIA_RESOURCE</th>\n",
       "    </tr>\n",
       "  </thead>\n",
       "  <tbody>\n",
       "    <tr>\n",
       "      <th>0</th>\n",
       "      <td>e54e71633d27bd2a734aea40cdf726a2</td>\n",
       "      <td>Volatile</td>\n",
       "      <td>Stock</td>\n",
       "      <td>0.975738</td>\n",
       "      <td>http://dbpedia.org/resource/Stock</td>\n",
       "    </tr>\n",
       "    <tr>\n",
       "      <th>1</th>\n",
       "      <td>e54e71633d27bd2a734aea40cdf726a2</td>\n",
       "      <td>Volatile</td>\n",
       "      <td>Stock market</td>\n",
       "      <td>0.767466</td>\n",
       "      <td>http://dbpedia.org/resource/Stock_market</td>\n",
       "    </tr>\n",
       "    <tr>\n",
       "      <th>2</th>\n",
       "      <td>e54e71633d27bd2a734aea40cdf726a2</td>\n",
       "      <td>Volatile</td>\n",
       "      <td>Debt</td>\n",
       "      <td>0.745304</td>\n",
       "      <td>http://dbpedia.org/resource/Debt</td>\n",
       "    </tr>\n",
       "    <tr>\n",
       "      <th>3</th>\n",
       "      <td>e54e71633d27bd2a734aea40cdf726a2</td>\n",
       "      <td>Volatile</td>\n",
       "      <td>Security</td>\n",
       "      <td>0.648006</td>\n",
       "      <td>http://dbpedia.org/resource/Security_(finance)</td>\n",
       "    </tr>\n",
       "    <tr>\n",
       "      <th>4</th>\n",
       "      <td>e54e71633d27bd2a734aea40cdf726a2</td>\n",
       "      <td>Volatile</td>\n",
       "      <td>Corporate finance</td>\n",
       "      <td>0.598291</td>\n",
       "      <td>http://dbpedia.org/resource/Corporate_finance</td>\n",
       "    </tr>\n",
       "    <tr>\n",
       "      <th>...</th>\n",
       "      <td>...</td>\n",
       "      <td>...</td>\n",
       "      <td>...</td>\n",
       "      <td>...</td>\n",
       "      <td>...</td>\n",
       "    </tr>\n",
       "    <tr>\n",
       "      <th>88347</th>\n",
       "      <td>75d007abb122d944198fac463e8ece54</td>\n",
       "      <td>Supply Chain Management</td>\n",
       "      <td>Call option</td>\n",
       "      <td>0.661255</td>\n",
       "      <td>http://dbpedia.org/resource/Call_option</td>\n",
       "    </tr>\n",
       "    <tr>\n",
       "      <th>88348</th>\n",
       "      <td>75d007abb122d944198fac463e8ece54</td>\n",
       "      <td>Supply Chain Management</td>\n",
       "      <td>Dividend</td>\n",
       "      <td>0.632481</td>\n",
       "      <td>http://dbpedia.org/resource/Dividend</td>\n",
       "    </tr>\n",
       "    <tr>\n",
       "      <th>88349</th>\n",
       "      <td>75d007abb122d944198fac463e8ece54</td>\n",
       "      <td>Supply Chain Management</td>\n",
       "      <td>Stock market</td>\n",
       "      <td>0.599023</td>\n",
       "      <td>http://dbpedia.org/resource/Stock_market</td>\n",
       "    </tr>\n",
       "    <tr>\n",
       "      <th>88350</th>\n",
       "      <td>75d007abb122d944198fac463e8ece54</td>\n",
       "      <td>Supply Chain Management</td>\n",
       "      <td>Derivative</td>\n",
       "      <td>0.583226</td>\n",
       "      <td>http://dbpedia.org/resource/Derivative_(finance)</td>\n",
       "    </tr>\n",
       "    <tr>\n",
       "      <th>88351</th>\n",
       "      <td>75d007abb122d944198fac463e8ece54</td>\n",
       "      <td>Supply Chain Management</td>\n",
       "      <td>Security</td>\n",
       "      <td>0.527912</td>\n",
       "      <td>http://dbpedia.org/resource/Security_(finance)</td>\n",
       "    </tr>\n",
       "  </tbody>\n",
       "</table>\n",
       "<p>88191 rows × 5 columns</p>\n",
       "</div>"
      ],
      "text/plain": [
       "                                     ID                   RISKID  \\\n",
       "0      e54e71633d27bd2a734aea40cdf726a2                 Volatile   \n",
       "1      e54e71633d27bd2a734aea40cdf726a2                 Volatile   \n",
       "2      e54e71633d27bd2a734aea40cdf726a2                 Volatile   \n",
       "3      e54e71633d27bd2a734aea40cdf726a2                 Volatile   \n",
       "4      e54e71633d27bd2a734aea40cdf726a2                 Volatile   \n",
       "...                                 ...                      ...   \n",
       "88347  75d007abb122d944198fac463e8ece54  Supply Chain Management   \n",
       "88348  75d007abb122d944198fac463e8ece54  Supply Chain Management   \n",
       "88349  75d007abb122d944198fac463e8ece54  Supply Chain Management   \n",
       "88350  75d007abb122d944198fac463e8ece54  Supply Chain Management   \n",
       "88351  75d007abb122d944198fac463e8ece54  Supply Chain Management   \n",
       "\n",
       "                 CONCEPT  RELEVANCE  \\\n",
       "0                  Stock   0.975738   \n",
       "1           Stock market   0.767466   \n",
       "2                   Debt   0.745304   \n",
       "3               Security   0.648006   \n",
       "4      Corporate finance   0.598291   \n",
       "...                  ...        ...   \n",
       "88347        Call option   0.661255   \n",
       "88348           Dividend   0.632481   \n",
       "88349       Stock market   0.599023   \n",
       "88350         Derivative   0.583226   \n",
       "88351           Security   0.527912   \n",
       "\n",
       "                                       DBPEDIA_RESOURCE  \n",
       "0                     http://dbpedia.org/resource/Stock  \n",
       "1              http://dbpedia.org/resource/Stock_market  \n",
       "2                      http://dbpedia.org/resource/Debt  \n",
       "3        http://dbpedia.org/resource/Security_(finance)  \n",
       "4         http://dbpedia.org/resource/Corporate_finance  \n",
       "...                                                 ...  \n",
       "88347           http://dbpedia.org/resource/Call_option  \n",
       "88348              http://dbpedia.org/resource/Dividend  \n",
       "88349          http://dbpedia.org/resource/Stock_market  \n",
       "88350  http://dbpedia.org/resource/Derivative_(finance)  \n",
       "88351    http://dbpedia.org/resource/Security_(finance)  \n",
       "\n",
       "[88191 rows x 5 columns]"
      ]
     },
     "execution_count": 441,
     "metadata": {},
     "output_type": "execute_result"
    }
   ],
   "source": [
    "df[df['CONCEPT'].str.len()>=1]"
   ]
  },
  {
   "cell_type": "markdown",
   "metadata": {},
   "source": [
    "### Compare results side by side"
   ]
  },
  {
   "cell_type": "code",
   "execution_count": 432,
   "metadata": {},
   "outputs": [],
   "source": [
    "pd.DataFrame({'Old': df['CONCEPT'], 'Modified': df['CONCEPT'].apply(remove_stop_words)}).to_excel(r\"C:\\Users\\Akshit.Miglani\\OneDrive - EY\\Desktop\\Project\\US TMT Risk Scanner NLP\\Python\\Output 10K\\Stop_Words_Comparison.xlsx\")"
   ]
  },
  {
   "cell_type": "markdown",
   "metadata": {},
   "source": [
    "# LINKS\n",
    "\n",
    "1. Why it\"s important to use **r**\"\\b\"\n",
    "    - https://stackoverflow.com/questions/22961145/the-reason-python-string-assignments-accidentally-change-b-into-x08-and/22961200\n",
    "    \n",
    "\n",
    "2. Walls concept \\b and \\B\n",
    "    - https://stackoverflow.com/questions/6664151/difference-between-b-and-b-in-regex\n",
    "\n",
    "    - https://www.regular-expressions.info/wordboundaries.html"
   ]
  },
  {
   "cell_type": "markdown",
   "metadata": {},
   "source": [
    "### More on word boundaries\n",
    "\n",
    "https://www.youtube.com/watch?v=csKPnCyzw7w\n",
    "\n",
    "\\b**t** : Words that begin with \"t\"\n",
    "\n",
    "**t**\\b : Words that end with \"t\"\n",
    "\n",
    "\n",
    "\n",
    "\\B**t** : Words that do not begin with \"t\"\n",
    "\n",
    "**t**\\B : Words that do not end with \"t\""
   ]
  },
  {
   "cell_type": "markdown",
   "metadata": {},
   "source": [
    "---"
   ]
  }
 ],
 "metadata": {
  "kernelspec": {
   "display_name": "Python 3",
   "language": "python",
   "name": "python3"
  },
  "language_info": {
   "codemirror_mode": {
    "name": "ipython",
    "version": 3
   },
   "file_extension": ".py",
   "mimetype": "text/x-python",
   "name": "python",
   "nbconvert_exporter": "python",
   "pygments_lexer": "ipython3",
   "version": "3.7.6"
  }
 },
 "nbformat": 4,
 "nbformat_minor": 4
}
